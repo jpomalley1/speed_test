{
 "cells": [
  {
   "cell_type": "code",
   "execution_count": 3,
   "metadata": {},
   "outputs": [
    {
     "name": "stderr",
     "output_type": "stream",
     "text": [
      "/tmp/ipykernel_9506/2581852720.py:2: DeprecationWarning: \n",
      "Pyarrow will become a required dependency of pandas in the next major release of pandas (pandas 3.0),\n",
      "(to allow more performant data types, such as the Arrow string type, and better interoperability with other libraries)\n",
      "but was not found to be installed on your system.\n",
      "If this would cause problems for you,\n",
      "please provide us feedback at https://github.com/pandas-dev/pandas/issues/54466\n",
      "        \n",
      "  import pandas as pd\n"
     ]
    }
   ],
   "source": [
    "import numpy as np\n",
    "import pandas as pd\n",
    "import matplotlib.pyplot as plt\n",
    "import seaborn as sns\n",
    "import os\n",
    "import sys\n",
    "import datetime\n",
    "import logging\n",
    "import logging.handlers\n",
    "import math"
   ]
  },
  {
   "cell_type": "code",
   "execution_count": 4,
   "metadata": {},
   "outputs": [
    {
     "name": "stderr",
     "output_type": "stream",
     "text": [
      "2024-02-11 14:05:35.257093: I tensorflow/stream_executor/platform/default/dso_loader.cc:49] Successfully opened dynamic library libcudart.so.10.1\n"
     ]
    }
   ],
   "source": [
    "import tensorflow as tf"
   ]
  },
  {
   "cell_type": "code",
   "execution_count": 5,
   "metadata": {},
   "outputs": [
    {
     "data": {
      "text/plain": [
       "'2.4.1'"
      ]
     },
     "execution_count": 5,
     "metadata": {},
     "output_type": "execute_result"
    }
   ],
   "source": [
    "tf.__version__"
   ]
  },
  {
   "cell_type": "code",
   "execution_count": 6,
   "metadata": {},
   "outputs": [],
   "source": [
    "matrix = np.array([\n",
    "    [1,2,3]\n",
    "    ,\n",
    "    [4,5,6]\n",
    "    ,\n",
    "    [7,8,9]\n",
    "])"
   ]
  },
  {
   "cell_type": "code",
   "execution_count": 7,
   "metadata": {},
   "outputs": [],
   "source": [
    "## sigmoid function\n",
    "def sigma(x):\n",
    "    return 1 / (1 + np.exp(-x))\n",
    "## softmax function\n",
    "def distribution(x):\n",
    "    return np.exp(x) / np.sum(np.exp(x))"
   ]
  },
  {
   "cell_type": "code",
   "execution_count": 8,
   "metadata": {},
   "outputs": [],
   "source": [
    "## Normal Gaussian Distribution\n",
    "\n",
    "def binnomial(x):\n",
    "    choice = input(\"built-in or custom: \")\n",
    "    if choice == \"built-in\":\n",
    "        return np.random.binomial(1, x)\n",
    "    else:\n",
    "        fx = 1 / sigma(matrix) * math.sqrt(1 / (2 * np.pi)) * np.exp(-1 / 2 * matrix ** 2)\n",
    "        return fx\n",
    "    "
   ]
  },
  {
   "cell_type": "code",
   "execution_count": 9,
   "metadata": {},
   "outputs": [],
   "source": [
    "## Normal Gaussian Distribution\n",
    "\n",
    "def real_normal_gaussian(x, i):\n",
    "    choice = input(\"built-in or custom: \")\n",
    "    if choice == \"built-in\":\n",
    "        return np.random.normal(0, 1)\n",
    "    else:\n",
    "        mu = 0\n",
    "        sigma = 1\n",
    "        fx = 1 / (sigma * math.sqrt(2 * np.pi)) * np.exp(-1 / 2 * ((x - mu) / sigma) ** 2)\n",
    "        return fx"
   ]
  },
  {
   "cell_type": "code",
   "execution_count": 10,
   "metadata": {},
   "outputs": [],
   "source": [
    "## Predicted Normal Gaussian Distribution\n",
    "\n",
    "def guess_normal_gaussian(z, i):\n",
    "    choice = input(\"built-in or custom: \")\n",
    "    if choice == \"built-in\":\n",
    "        return np.random.normal(0, 1)\n",
    "    else:\n",
    "        mu = 0\n",
    "        sigma = 1\n",
    "        fx = 1 / (sigma * math.sqrt(2 * np.pi)) * np.exp(-1 / 2 * ((z - mu) / sigma) ** 2)\n",
    "        return fx"
   ]
  },
  {
   "cell_type": "code",
   "execution_count": 11,
   "metadata": {},
   "outputs": [],
   "source": [
    "## Gradient Descent\n",
    "\n",
    "def wrongness(x, z, i):\n",
    "    return (real_normal_gaussian(x, i) - guess_normal_gaussian(z, i)) ** 2\n",
    "\n",
    "def gradient_descent(x, z, i):\n",
    "    return wrongness(x, z, i) * guess_normal_gaussian(z, i) * (1 - guess_normal_gaussian(z, i))\n"
   ]
  },
  {
   "cell_type": "code",
   "execution_count": 12,
   "metadata": {},
   "outputs": [
    {
     "name": "stdout",
     "output_type": "stream",
     "text": [
      "x:  1.4867195147342977e-06\n",
      "z:  -1.7754738201910218\n",
      "wrongness:  0.026586247325037213\n",
      "gradient descent:  0.007579249615013752\n",
      "x:  0.39894228040099183\n",
      "z:  0.08248884752483292\n",
      "wrongness:  0.0008503945668253616\n",
      "gradient descent:  0.00020367939695983332\n",
      "x:  0.36842577779476293\n",
      "z:  0.3975873032491242\n",
      "wrongness:  1.7141813844696317e-05\n",
      "gradient descent:  3.989594617399111e-06\n",
      "x:  0.37276491598688677\n",
      "z:  0.3686246486229722\n"
     ]
    }
   ],
   "source": [
    "def test(x, z, i):\n",
    "    x = 5\n",
    "    z = 10\n",
    "    for i in range(100):\n",
    "        x = real_normal_gaussian(x, i)\n",
    "        z = guess_normal_gaussian(z, i)\n",
    "        print(\"x: \", x)\n",
    "        print(\"z: \", z)\n",
    "        print(\"wrongness: \", wrongness(x, z, i))\n",
    "        print(\"gradient descent: \", gradient_descent(x, z, i))\n",
    "test(0, 0, 0)\n"
   ]
  },
  {
   "cell_type": "code",
   "execution_count": null,
   "metadata": {},
   "outputs": [],
   "source": []
  },
  {
   "cell_type": "markdown",
   "metadata": {},
   "source": [
    "class Features(int):\n",
    "    G = 18\n",
    "    H = 2\n",
    "    \n",
    "    def __init__(self, G, H):\n",
    "        self.G = G\n",
    "        self.H = H\n",
    "        \n",
    "def equation(G, H):\n",
    "    return G/H\n",
    "\n",
    "print(equation(Features.G, Features.H))"
   ]
  },
  {
   "cell_type": "markdown",
   "metadata": {},
   "source": [
    "def my_function(a, b, j):\n",
    "    lll = a * b\n",
    "    \n",
    "    while j < 1000:\n",
    "        print(lll)\n",
    "        j += 1\n",
    "\n",
    "# Example usage:\n",
    "a_value = 1\n",
    "b_value = 2\n",
    "j_value = 0\n",
    "\n",
    "my_function(a_value, b_value, j_value)"
   ]
  }
 ],
 "metadata": {
  "kernelspec": {
   "display_name": "Python 3",
   "language": "python",
   "name": "python3"
  },
  "language_info": {
   "codemirror_mode": {
    "name": "ipython",
    "version": 3
   },
   "file_extension": ".py",
   "mimetype": "text/x-python",
   "name": "python",
   "nbconvert_exporter": "python",
   "pygments_lexer": "ipython3",
   "version": "3.9.18"
  }
 },
 "nbformat": 4,
 "nbformat_minor": 2
}
